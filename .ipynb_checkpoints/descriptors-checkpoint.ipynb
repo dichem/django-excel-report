{
 "cells": [
  {
   "cell_type": "code",
   "execution_count": 64,
   "id": "69c88af0",
   "metadata": {},
   "outputs": [],
   "source": [
    "from tests.models import Pic, Product, Description"
   ]
  },
  {
   "cell_type": "markdown",
   "id": "f97a1d2c",
   "metadata": {},
   "source": [
    "### **django.db.models.fields.related_descriptors.ManyToManyDescriptor**"
   ]
  },
  {
   "cell_type": "code",
   "execution_count": 65,
   "id": "8e425af7",
   "metadata": {},
   "outputs": [
    {
     "data": {
      "text/plain": [
       "<django.db.models.fields.related_descriptors.ManyToManyDescriptor at 0x7f8d3f3211e0>"
      ]
     },
     "execution_count": 65,
     "metadata": {},
     "output_type": "execute_result"
    }
   ],
   "source": [
    "Product.sizes  # Возвращает объект ManyToManyDescriptor"
   ]
  },
  {
   "cell_type": "code",
   "execution_count": 66,
   "id": "966e06a5",
   "metadata": {},
   "outputs": [
    {
     "data": {
      "text/plain": [
       "{'rel': <ManyToManyRel: tests.product>,\n",
       " 'field': <django.db.models.fields.related.ManyToManyField: sizes>,\n",
       " 'reverse': False}"
      ]
     },
     "execution_count": 66,
     "metadata": {},
     "output_type": "execute_result"
    }
   ],
   "source": [
    "Product.sizes.__dict__  # имеет следующие атрибуты, нас интересует rel"
   ]
  },
  {
   "cell_type": "code",
   "execution_count": 67,
   "id": "1af94e46",
   "metadata": {},
   "outputs": [
    {
     "data": {
      "text/plain": [
       "tests.models.Size"
      ]
     },
     "execution_count": 67,
     "metadata": {},
     "output_type": "execute_result"
    }
   ],
   "source": [
    "Product.sizes.rel.model\n",
    "#  из атрибута rel можем получить модель, с которой m2m связь (может понадобится при генерации отчёта)"
   ]
  },
  {
   "cell_type": "code",
   "execution_count": 68,
   "id": "b203da1e",
   "metadata": {},
   "outputs": [
    {
     "data": {
      "text/plain": [
       "<django.db.models.fields.related_descriptors.ManyToManyDescriptor at 0x7f8d3f321930>"
      ]
     },
     "execution_count": 68,
     "metadata": {},
     "output_type": "execute_result"
    }
   ],
   "source": [
    "# важно учитывать, что обратная связь в fields подаётся как\n",
    "# Size.objects.values('product__name')\n",
    "# Однако доступ к дескриптору получаем через аттрибут field +'_set'\n",
    "Size.product_set"
   ]
  },
  {
   "cell_type": "code",
   "execution_count": 69,
   "id": "b7e0c9c0",
   "metadata": {},
   "outputs": [
    {
     "data": {
      "text/plain": [
       "tests.models.Product"
      ]
     },
     "execution_count": 69,
     "metadata": {},
     "output_type": "execute_result"
    }
   ],
   "source": [
    "# а доступ к модели в таком случае\n",
    "Size.product_set.rel.related_model"
   ]
  },
  {
   "cell_type": "code",
   "execution_count": 70,
   "id": "fa91e12c",
   "metadata": {},
   "outputs": [],
   "source": [
    "### **django.db.models.fields.related_descriptors.ReverseManyToOneDescriptor (осталось дописать)**"
   ]
  },
  {
   "cell_type": "code",
   "execution_count": 71,
   "id": "495ee39e",
   "metadata": {},
   "outputs": [
    {
     "data": {
      "text/plain": [
       "mappingproxy({'__module__': 'tests.models',\n",
       "              '__doc__': 'Pic(id, img)',\n",
       "              '_meta': <Options for Pic>,\n",
       "              'DoesNotExist': tests.models.Pic.DoesNotExist,\n",
       "              'MultipleObjectsReturned': tests.models.Pic.MultipleObjectsReturned,\n",
       "              'img': <django.db.models.query_utils.DeferredAttribute at 0x7f8d3f3203d0>,\n",
       "              'id': <django.db.models.query_utils.DeferredAttribute at 0x7f8d3f3204f0>,\n",
       "              'objects': <django.db.models.manager.ManagerDescriptor at 0x7f8d3f320490>,\n",
       "              'size_set': <django.db.models.fields.related_descriptors.ReverseManyToOneDescriptor at 0x7f8d3f320ac0>,\n",
       "              'product_set': <django.db.models.fields.related_descriptors.ReverseManyToOneDescriptor at 0x7f8d3f321c00>})"
      ]
     },
     "execution_count": 71,
     "metadata": {},
     "output_type": "execute_result"
    }
   ],
   "source": [
    "Pic.__dict__"
   ]
  },
  {
   "cell_type": "markdown",
   "id": "f8445fe8",
   "metadata": {},
   "source": [
    "#### Сверху то что префетчим"
   ]
  },
  {
   "cell_type": "markdown",
   "id": "a158a1e9",
   "metadata": {},
   "source": [
    "#### Снизу то что джоиним"
   ]
  },
  {
   "cell_type": "markdown",
   "id": "bdb53674",
   "metadata": {},
   "source": [
    "### **django.db.models.fields.related_descriptors.ForwardManyToOneDescriptor**"
   ]
  },
  {
   "cell_type": "code",
   "execution_count": 73,
   "id": "ba199958",
   "metadata": {},
   "outputs": [
    {
     "data": {
      "text/plain": [
       "<django.db.models.fields.related_descriptors.ForwardManyToOneDescriptor at 0x7f8d3f3214b0>"
      ]
     },
     "execution_count": 73,
     "metadata": {},
     "output_type": "execute_result"
    }
   ],
   "source": [
    "Product.picture"
   ]
  },
  {
   "cell_type": "code",
   "execution_count": 74,
   "id": "c1c718ac",
   "metadata": {},
   "outputs": [
    {
     "data": {
      "text/plain": [
       "{'field': <django.db.models.fields.related.ForeignKey: picture>}"
      ]
     },
     "execution_count": 74,
     "metadata": {},
     "output_type": "execute_result"
    }
   ],
   "source": [
    "Product.picture.__dict__  # При наличии ForwardManyToOneDescriptor нам понадобится джоин в sql\n",
    "# С помощью select_related, потому что на один объект главной модели приходится один объект связанный по\n",
    "# внешнему ключу, в аргументы select_related должна пойти строка \"picture\" (название поля у модели)"
   ]
  },
  {
   "cell_type": "code",
   "execution_count": 75,
   "id": "ee8d9354",
   "metadata": {},
   "outputs": [
    {
     "data": {
      "text/plain": [
       "tests.models.Pic"
      ]
     },
     "execution_count": 75,
     "metadata": {},
     "output_type": "execute_result"
    }
   ],
   "source": [
    "# Доступ к модели\n",
    "Product.picture.field.related_model"
   ]
  },
  {
   "cell_type": "markdown",
   "id": "e1e6833c",
   "metadata": {},
   "source": [
    "### **django.db.models.fields.related_descriptors.ReverseOneToOneDescriptor**"
   ]
  },
  {
   "cell_type": "code",
   "execution_count": 76,
   "id": "567616dd",
   "metadata": {},
   "outputs": [
    {
     "name": "stdout",
     "output_type": "stream",
     "text": [
      "Дескриптор:  <django.db.models.fields.related_descriptors.ReverseOneToOneDescriptor object at 0x7f8d3f3221a0>\n",
      "Его атрибуты:  {'related': <OneToOneRel: tests.description>}\n",
      "Модель:  <class 'tests.models.Description'>\n"
     ]
    }
   ],
   "source": [
    "print(\"Дескриптор: \", Product.description)\n",
    "print('Его атрибуты: ', Product.description.__dict__)\n",
    "print(\"Модель: \", Product.description.related.related_model)"
   ]
  },
  {
   "cell_type": "markdown",
   "id": "fa9d8237",
   "metadata": {},
   "source": [
    "### **django.db.models.fields.related_descriptors.ForwardOneToOneDescriptor**"
   ]
  },
  {
   "cell_type": "code",
   "execution_count": 77,
   "id": "bbfaf04d",
   "metadata": {},
   "outputs": [
    {
     "name": "stdout",
     "output_type": "stream",
     "text": [
      "Дескриптор:  <django.db.models.fields.related_descriptors.ForwardOneToOneDescriptor object at 0x7f8d3f321db0>\n",
      "Его атрибуты:  {'field': <django.db.models.fields.related.OneToOneField: product>}\n",
      "Модель:  <class 'tests.models.Product'>\n"
     ]
    }
   ],
   "source": [
    "print(\"Дескриптор: \", Description.product)\n",
    "print('Его атрибуты: ', Description.product.__dict__)\n",
    "print(\"Модель: \", Description.product.field.related_model)"
   ]
  },
  {
   "cell_type": "code",
   "execution_count": null,
   "id": "2029de44",
   "metadata": {},
   "outputs": [],
   "source": []
  }
 ],
 "metadata": {
  "kernelspec": {
   "display_name": "Django Shell-Plus",
   "language": "python",
   "name": "django_extensions"
  },
  "language_info": {
   "codemirror_mode": {
    "name": "ipython",
    "version": 3
   },
   "file_extension": ".py",
   "mimetype": "text/x-python",
   "name": "python",
   "nbconvert_exporter": "python",
   "pygments_lexer": "ipython3",
   "version": "3.10.6"
  }
 },
 "nbformat": 4,
 "nbformat_minor": 5
}
