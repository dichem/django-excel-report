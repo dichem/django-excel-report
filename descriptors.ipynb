{
 "cells": [
  {
   "cell_type": "code",
   "execution_count": 1,
   "id": "69c88af0",
   "metadata": {},
   "outputs": [],
   "source": [
    "from tests.models import Pic, Product, Description"
   ]
  },
  {
   "cell_type": "code",
   "execution_count": 7,
   "id": "e73b41ec",
   "metadata": {},
   "outputs": [
    {
     "name": "stderr",
     "output_type": "stream",
     "text": [
      "CREATE TABLE \"django_migrations\" (\"id\" integer NOT NULL PRIMARY KEY AUTOINCREMENT, \"app\" varchar(255) NOT NULL, \"name\" varchar(255) NOT NULL, \"applied\" datetime NOT NULL); (params None)\n"
     ]
    },
    {
     "name": "stdout",
     "output_type": "stream",
     "text": [
      "Operations to perform:\n",
      "  Apply all migrations: tests\n",
      "Running migrations:\n",
      "  Applying tests.0001_initial..."
     ]
    },
    {
     "name": "stderr",
     "output_type": "stream",
     "text": [
      "CREATE TABLE \"tests_pic\" (\"id\" integer NOT NULL PRIMARY KEY AUTOINCREMENT, \"img\" text NOT NULL); (params None)\n",
      "CREATE TABLE \"tests_size\" (\"id\" integer NOT NULL PRIMARY KEY AUTOINCREMENT, \"name\" text NOT NULL, \"picture_id\" bigint NULL REFERENCES \"tests_pic\" (\"id\") DEFERRABLE INITIALLY DEFERRED); (params None)\n",
      "CREATE TABLE \"tests_product\" (\"id\" integer NOT NULL PRIMARY KEY AUTOINCREMENT, \"name\" text NOT NULL, \"picture_id\" bigint NOT NULL REFERENCES \"tests_pic\" (\"id\") DEFERRABLE INITIALLY DEFERRED); (params None)\n",
      "CREATE TABLE \"tests_product_sizes\" (\"id\" integer NOT NULL PRIMARY KEY AUTOINCREMENT, \"product_id\" bigint NOT NULL REFERENCES \"tests_product\" (\"id\") DEFERRABLE INITIALLY DEFERRED, \"size_id\" bigint NOT NULL REFERENCES \"tests_size\" (\"id\") DEFERRABLE INITIALLY DEFERRED); (params None)\n",
      "CREATE TABLE \"tests_description\" (\"id\" integer NOT NULL PRIMARY KEY AUTOINCREMENT, \"text\" text NOT NULL, \"product_id\" bigint NOT NULL UNIQUE REFERENCES \"tests_product\" (\"id\") DEFERRABLE INITIALLY DEFERRED); (params None)\n",
      "CREATE INDEX \"tests_size_picture_id_35448cf2\" ON \"tests_size\" (\"picture_id\"); (params ())\n",
      "CREATE INDEX \"tests_product_picture_id_881ef55d\" ON \"tests_product\" (\"picture_id\"); (params ())\n",
      "CREATE UNIQUE INDEX \"tests_product_sizes_product_id_size_id_a2dd071c_uniq\" ON \"tests_product_sizes\" (\"product_id\", \"size_id\"); (params ())\n",
      "CREATE INDEX \"tests_product_sizes_product_id_b3ecb001\" ON \"tests_product_sizes\" (\"product_id\"); (params ())\n",
      "CREATE INDEX \"tests_product_sizes_size_id_c9be914e\" ON \"tests_product_sizes\" (\"size_id\"); (params ())\n"
     ]
    },
    {
     "name": "stdout",
     "output_type": "stream",
     "text": [
      " OK\n"
     ]
    }
   ],
   "source": [
    "# Если нужно воспользоваться моделями, прогоняем миграции (если их нет так же создаём)\n",
    "import sys\n",
    "from django.core.management import execute_from_command_line\n",
    "execute_from_command_line(['manage.py', 'migrate', 'tests'])"
   ]
  },
  {
   "cell_type": "markdown",
   "id": "f97a1d2c",
   "metadata": {},
   "source": [
    "### **django.db.models.fields.related_descriptors.ManyToManyDescriptor**"
   ]
  },
  {
   "cell_type": "code",
   "execution_count": 65,
   "id": "8e425af7",
   "metadata": {},
   "outputs": [
    {
     "data": {
      "text/plain": [
       "<django.db.models.fields.related_descriptors.ManyToManyDescriptor at 0x7f8d3f3211e0>"
      ]
     },
     "execution_count": 65,
     "metadata": {},
     "output_type": "execute_result"
    }
   ],
   "source": [
    "Product.sizes  # Возвращает объект ManyToManyDescriptor"
   ]
  },
  {
   "cell_type": "code",
   "execution_count": 66,
   "id": "966e06a5",
   "metadata": {},
   "outputs": [
    {
     "data": {
      "text/plain": [
       "{'rel': <ManyToManyRel: tests.product>,\n",
       " 'field': <django.db.models.fields.related.ManyToManyField: sizes>,\n",
       " 'reverse': False}"
      ]
     },
     "execution_count": 66,
     "metadata": {},
     "output_type": "execute_result"
    }
   ],
   "source": [
    "Product.sizes.__dict__  # имеет следующие атрибуты, нас интересует rel"
   ]
  },
  {
   "cell_type": "code",
   "execution_count": 67,
   "id": "1af94e46",
   "metadata": {},
   "outputs": [
    {
     "data": {
      "text/plain": [
       "tests.models.Size"
      ]
     },
     "execution_count": 67,
     "metadata": {},
     "output_type": "execute_result"
    }
   ],
   "source": [
    "Product.sizes.rel.model\n",
    "#  из атрибута rel можем получить модель, с которой m2m связь (может понадобится при генерации отчёта)"
   ]
  },
  {
   "cell_type": "code",
   "execution_count": 68,
   "id": "b203da1e",
   "metadata": {},
   "outputs": [
    {
     "data": {
      "text/plain": [
       "<django.db.models.fields.related_descriptors.ManyToManyDescriptor at 0x7f8d3f321930>"
      ]
     },
     "execution_count": 68,
     "metadata": {},
     "output_type": "execute_result"
    }
   ],
   "source": [
    "# важно учитывать, что обратная связь в fields подаётся как\n",
    "# Size.objects.values('product__name')\n",
    "# Однако доступ к дескриптору получаем через аттрибут field +'_set'\n",
    "Size.product_set"
   ]
  },
  {
   "cell_type": "code",
   "execution_count": 69,
   "id": "b7e0c9c0",
   "metadata": {},
   "outputs": [
    {
     "data": {
      "text/plain": [
       "tests.models.Product"
      ]
     },
     "execution_count": 69,
     "metadata": {},
     "output_type": "execute_result"
    }
   ],
   "source": [
    "# а доступ к модели в таком случае\n",
    "Size.product_set.rel.related_model"
   ]
  },
  {
   "cell_type": "code",
   "execution_count": 22,
   "id": "fa91e12c",
   "metadata": {},
   "outputs": [],
   "source": [
    "### **django.db.models.fields.related_descriptors.ReverseManyToOneDescriptor**"
   ]
  },
  {
   "cell_type": "code",
   "execution_count": 26,
   "id": "495ee39e",
   "metadata": {},
   "outputs": [
    {
     "data": {
      "text/plain": [
       "<django.db.models.fields.related_descriptors.ReverseManyToOneDescriptor at 0x7f8837f9e830>"
      ]
     },
     "execution_count": 26,
     "metadata": {},
     "output_type": "execute_result"
    }
   ],
   "source": [
    "Pic.size_set"
   ]
  },
  {
   "cell_type": "code",
   "execution_count": 27,
   "id": "a24ef505",
   "metadata": {},
   "outputs": [
    {
     "data": {
      "text/plain": [
       "{'rel': <ManyToOneRel: tests.size>,\n",
       " 'field': <django.db.models.fields.related.ForeignKey: picture>}"
      ]
     },
     "execution_count": 27,
     "metadata": {},
     "output_type": "execute_result"
    }
   ],
   "source": [
    "Pic.size_set.__dict__"
   ]
  },
  {
   "cell_type": "code",
   "execution_count": 2,
   "id": "fa607842",
   "metadata": {},
   "outputs": [
    {
     "data": {
      "text/plain": [
       "tests.models.Size"
      ]
     },
     "execution_count": 2,
     "metadata": {},
     "output_type": "execute_result"
    }
   ],
   "source": [
    "Pic.size_set.rel.related_model"
   ]
  },
  {
   "cell_type": "code",
   "execution_count": 30,
   "id": "6f1c6dd4",
   "metadata": {},
   "outputs": [
    {
     "data": {
      "text/plain": [
       "tests.models.Size"
      ]
     },
     "execution_count": 30,
     "metadata": {},
     "output_type": "execute_result"
    }
   ],
   "source": [
    "Pic.size_set.field.model"
   ]
  },
  {
   "cell_type": "code",
   "execution_count": 24,
   "id": "d873abfa",
   "metadata": {},
   "outputs": [
    {
     "data": {
      "text/plain": [
       "'SELECT \"tests_size\".\"id\", \"tests_size\".\"name\", \"tests_size\".\"picture_id\", \"tests_pic\".\"id\", \"tests_pic\".\"img\" FROM \"tests_size\" LEFT OUTER JOIN \"tests_pic\" ON (\"tests_size\".\"picture_id\" = \"tests_pic\".\"id\")'"
      ]
     },
     "execution_count": 24,
     "metadata": {},
     "output_type": "execute_result"
    }
   ],
   "source": [
    "Size.objects.select_related('picture').query.__str__()"
   ]
  },
  {
   "cell_type": "markdown",
   "id": "f8445fe8",
   "metadata": {},
   "source": [
    "#### Сверху то что префетчим"
   ]
  },
  {
   "cell_type": "markdown",
   "id": "a158a1e9",
   "metadata": {},
   "source": [
    "#### Снизу то что джоиним"
   ]
  },
  {
   "cell_type": "markdown",
   "id": "bdb53674",
   "metadata": {},
   "source": [
    "### **django.db.models.fields.related_descriptors.ForwardManyToOneDescriptor**"
   ]
  },
  {
   "cell_type": "code",
   "execution_count": 73,
   "id": "ba199958",
   "metadata": {},
   "outputs": [
    {
     "data": {
      "text/plain": [
       "<django.db.models.fields.related_descriptors.ForwardManyToOneDescriptor at 0x7f8d3f3214b0>"
      ]
     },
     "execution_count": 73,
     "metadata": {},
     "output_type": "execute_result"
    }
   ],
   "source": [
    "Product.picture"
   ]
  },
  {
   "cell_type": "code",
   "execution_count": 74,
   "id": "c1c718ac",
   "metadata": {},
   "outputs": [
    {
     "data": {
      "text/plain": [
       "{'field': <django.db.models.fields.related.ForeignKey: picture>}"
      ]
     },
     "execution_count": 74,
     "metadata": {},
     "output_type": "execute_result"
    }
   ],
   "source": [
    "Product.picture.__dict__  # При наличии ForwardManyToOneDescriptor нам понадобится джоин в sql\n",
    "# С помощью select_related, потому что на один объект главной модели приходится один объект связанный по\n",
    "# внешнему ключу, в аргументы select_related должна пойти строка \"picture\" (название поля у модели)"
   ]
  },
  {
   "cell_type": "code",
   "execution_count": 75,
   "id": "ee8d9354",
   "metadata": {},
   "outputs": [
    {
     "data": {
      "text/plain": [
       "tests.models.Pic"
      ]
     },
     "execution_count": 75,
     "metadata": {},
     "output_type": "execute_result"
    }
   ],
   "source": [
    "# Доступ к модели\n",
    "Product.picture.field.related_model"
   ]
  },
  {
   "cell_type": "markdown",
   "id": "e1e6833c",
   "metadata": {},
   "source": [
    "### **django.db.models.fields.related_descriptors.ReverseOneToOneDescriptor**"
   ]
  },
  {
   "cell_type": "code",
   "execution_count": 76,
   "id": "567616dd",
   "metadata": {},
   "outputs": [
    {
     "name": "stdout",
     "output_type": "stream",
     "text": [
      "Дескриптор:  <django.db.models.fields.related_descriptors.ReverseOneToOneDescriptor object at 0x7f8d3f3221a0>\n",
      "Его атрибуты:  {'related': <OneToOneRel: tests.description>}\n",
      "Модель:  <class 'tests.models.Description'>\n"
     ]
    }
   ],
   "source": [
    "print(\"Дескриптор: \", Product.description)\n",
    "print('Его атрибуты: ', Product.description.__dict__)\n",
    "print(\"Модель: \", Product.description.related.related_model)"
   ]
  },
  {
   "cell_type": "markdown",
   "id": "fa9d8237",
   "metadata": {},
   "source": [
    "### **django.db.models.fields.related_descriptors.ForwardOneToOneDescriptor**"
   ]
  },
  {
   "cell_type": "code",
   "execution_count": 77,
   "id": "bbfaf04d",
   "metadata": {},
   "outputs": [
    {
     "name": "stdout",
     "output_type": "stream",
     "text": [
      "Дескриптор:  <django.db.models.fields.related_descriptors.ForwardOneToOneDescriptor object at 0x7f8d3f321db0>\n",
      "Его атрибуты:  {'field': <django.db.models.fields.related.OneToOneField: product>}\n",
      "Модель:  <class 'tests.models.Product'>\n"
     ]
    }
   ],
   "source": [
    "print(\"Дескриптор: \", Description.product)\n",
    "print('Его атрибуты: ', Description.product.__dict__)\n",
    "print(\"Модель: \", Description.product.field.related_model)"
   ]
  },
  {
   "cell_type": "code",
   "execution_count": 2,
   "id": "2029de44",
   "metadata": {},
   "outputs": [],
   "source": [
    "def get_queryset_builder(select_related, prefetch_related, annotate_fields):\n",
    "        \n",
    "    def func(self):\n",
    "        return self.queryset\n",
    "    \n",
    "    methods = {}\n",
    "    if select_related:\n",
    "        def select_related_decorator(func):\n",
    "            def wrapper(self):\n",
    "                return func(self).select_related(*select_related)\n",
    "            return wrapper\n",
    "        func = select_related_decorator(func)\n",
    "    if prefetch_related:\n",
    "        def prefetch_related_decorator(func):\n",
    "            def wrapper(self):\n",
    "                return func(self).prefetch_related(*prefetch_related)\n",
    "            return wrapper\n",
    "        func = prefetch_related_decorator(func)\n",
    "    if annotate_fields:\n",
    "        def annotate_decorator(func):\n",
    "            def wrapper(self):\n",
    "                return func(self).annotate(**annotate_fields)\n",
    "            return wrapper\n",
    "            \n",
    "    return func"
   ]
  },
  {
   "cell_type": "code",
   "execution_count": 3,
   "id": "03338c5c",
   "metadata": {},
   "outputs": [
    {
     "data": {
      "text/plain": [
       "<function __main__.get_queryset_builder.<locals>.select_related_decorator.<locals>.wrapper(self)>"
      ]
     },
     "execution_count": 3,
     "metadata": {},
     "output_type": "execute_result"
    }
   ],
   "source": [
    "get_queryset_builder(['a'], None)"
   ]
  },
  {
   "cell_type": "code",
   "execution_count": 14,
   "id": "17f71e9b",
   "metadata": {},
   "outputs": [],
   "source": [
    "class A: pass\n",
    "A.f = get_queryset_builder(['description'], ['sizes'])\n",
    "a = A()\n",
    "a.queryset = Product.objects.all()"
   ]
  },
  {
   "cell_type": "code",
   "execution_count": 15,
   "id": "4b3ac14b",
   "metadata": {},
   "outputs": [
    {
     "data": {
      "text/plain": [
       "{'model': tests.models.Product,\n",
       " 'alias_refcount': {},\n",
       " 'alias_map': {},\n",
       " 'alias_cols': True,\n",
       " 'external_aliases': {},\n",
       " 'table_map': {},\n",
       " 'used_aliases': set(),\n",
       " 'where': <WhereNode: (AND: )>,\n",
       " 'annotations': {},\n",
       " 'extra': {},\n",
       " '_filtered_relations': {},\n",
       " '_annotation_select_cache': None,\n",
       " 'filter_is_sticky': False,\n",
       " 'select_related': {'description': {}}}"
      ]
     },
     "execution_count": 15,
     "metadata": {},
     "output_type": "execute_result"
    }
   ],
   "source": [
    "a.f().query.__dict__"
   ]
  },
  {
   "cell_type": "code",
   "execution_count": 21,
   "id": "43a01688",
   "metadata": {},
   "outputs": [
    {
     "name": "stdout",
     "output_type": "stream",
     "text": [
      "{'_wrapped': <Settings \"tests.settings\">, 'LOGGING_CONFIG': 'logging.config.dictConfig', 'LOGGING': {'version': 1, 'handlers': {'console': {'class': 'logging.StreamHandler'}}, 'loggers': {'django': {'level': 'INFO'}, 'django.db.backends': {'level': 'DEBUG'}}, 'root': {'handlers': ['console']}}, 'DEFAULT_EXCEPTION_REPORTER': 'django.views.debug.ExceptionReporter', 'FORCE_SCRIPT_NAME': None, 'INSTALLED_APPS': ('django_extensions', 'tests'), 'DEFAULT_TABLESPACE': '', 'DATABASES': {'default': {'ENGINE': 'django.db.backends.sqlite3', 'NAME': ':memory:', 'ATOMIC_REQUESTS': False, 'AUTOCOMMIT': True, 'CONN_MAX_AGE': 0, 'CONN_HEALTH_CHECKS': False, 'OPTIONS': {}, 'TIME_ZONE': None, 'USER': '', 'PASSWORD': '', 'HOST': '', 'PORT': '', 'TEST': {'CHARSET': None, 'COLLATION': None, 'MIGRATE': True, 'MIRROR': None, 'NAME': None}}}, 'DEFAULT_AUTO_FIELD': 'django.db.models.BigAutoField', 'ABSOLUTE_URL_OVERRIDES': {}, 'USE_I18N': True, 'DEBUG': False, 'LANGUAGE_CODE': 'en-us', 'LOCALE_PATHS': [], 'DEFAULT_INDEX_TABLESPACE': '', 'DATABASE_ROUTERS': [], 'TEMPLATES': [], 'LANGUAGES_BIDI': ['he', 'ar', 'ar-dz', 'fa', 'ur'], 'LANGUAGES': [('af', 'Afrikaans'), ('ar', 'Arabic'), ('ar-dz', 'Algerian Arabic'), ('ast', 'Asturian'), ('az', 'Azerbaijani'), ('bg', 'Bulgarian'), ('be', 'Belarusian'), ('bn', 'Bengali'), ('br', 'Breton'), ('bs', 'Bosnian'), ('ca', 'Catalan'), ('cs', 'Czech'), ('cy', 'Welsh'), ('da', 'Danish'), ('de', 'German'), ('dsb', 'Lower Sorbian'), ('el', 'Greek'), ('en', 'English'), ('en-au', 'Australian English'), ('en-gb', 'British English'), ('eo', 'Esperanto'), ('es', 'Spanish'), ('es-ar', 'Argentinian Spanish'), ('es-co', 'Colombian Spanish'), ('es-mx', 'Mexican Spanish'), ('es-ni', 'Nicaraguan Spanish'), ('es-ve', 'Venezuelan Spanish'), ('et', 'Estonian'), ('eu', 'Basque'), ('fa', 'Persian'), ('fi', 'Finnish'), ('fr', 'French'), ('fy', 'Frisian'), ('ga', 'Irish'), ('gd', 'Scottish Gaelic'), ('gl', 'Galician'), ('he', 'Hebrew'), ('hi', 'Hindi'), ('hr', 'Croatian'), ('hsb', 'Upper Sorbian'), ('hu', 'Hungarian'), ('hy', 'Armenian'), ('ia', 'Interlingua'), ('id', 'Indonesian'), ('ig', 'Igbo'), ('io', 'Ido'), ('is', 'Icelandic'), ('it', 'Italian'), ('ja', 'Japanese'), ('ka', 'Georgian'), ('kab', 'Kabyle'), ('kk', 'Kazakh'), ('km', 'Khmer'), ('kn', 'Kannada'), ('ko', 'Korean'), ('ky', 'Kyrgyz'), ('lb', 'Luxembourgish'), ('lt', 'Lithuanian'), ('lv', 'Latvian'), ('mk', 'Macedonian'), ('ml', 'Malayalam'), ('mn', 'Mongolian'), ('mr', 'Marathi'), ('ms', 'Malay'), ('my', 'Burmese'), ('nb', 'Norwegian Bokmål'), ('ne', 'Nepali'), ('nl', 'Dutch'), ('nn', 'Norwegian Nynorsk'), ('os', 'Ossetic'), ('pa', 'Punjabi'), ('pl', 'Polish'), ('pt', 'Portuguese'), ('pt-br', 'Brazilian Portuguese'), ('ro', 'Romanian'), ('ru', 'Russian'), ('sk', 'Slovak'), ('sl', 'Slovenian'), ('sq', 'Albanian'), ('sr', 'Serbian'), ('sr-latn', 'Serbian Latin'), ('sv', 'Swedish'), ('sw', 'Swahili'), ('ta', 'Tamil'), ('te', 'Telugu'), ('tg', 'Tajik'), ('th', 'Thai'), ('tk', 'Turkmen'), ('tr', 'Turkish'), ('tt', 'Tatar'), ('udm', 'Udmurt'), ('uk', 'Ukrainian'), ('ur', 'Urdu'), ('uz', 'Uzbek'), ('vi', 'Vietnamese'), ('zh-hans', 'Simplified Chinese'), ('zh-hant', 'Traditional Chinese')], 'is_overridden': <bound method Settings.is_overridden of <Settings \"tests.settings\">>, 'STATIC_URL': None, 'MEDIA_URL': '/', 'CACHES': {'default': {'BACKEND': 'django.core.cache.backends.locmem.LocMemCache'}}, 'FILE_UPLOAD_TEMP_DIR': None, 'CSRF_FAILURE_VIEW': 'django.views.csrf.csrf_failure', 'CSRF_TRUSTED_ORIGINS': [], 'MIGRATION_MODULES': {}, 'USE_TZ': True}\n",
      "Product object (1)\n",
      "<QuerySet []>\n"
     ]
    }
   ],
   "source": [
    "from django.conf import settings\n",
    "for i in a.f():\n",
    "    print(i)\n",
    "    print(i.sizes.all())"
   ]
  },
  {
   "cell_type": "code",
   "execution_count": 29,
   "id": "a4600791",
   "metadata": {},
   "outputs": [
    {
     "data": {
      "text/plain": [
       "'SELECT \"tests_description\".\"id\", \"tests_description\".\"text\", \"tests_description\".\"product_id\", \"tests_product\".\"id\", \"tests_product\".\"name\", \"tests_product\".\"picture_id\", \"tests_pic\".\"id\", \"tests_pic\".\"img\" FROM \"tests_description\" INNER JOIN \"tests_product\" ON (\"tests_description\".\"product_id\" = \"tests_product\".\"id\") INNER JOIN \"tests_pic\" ON (\"tests_product\".\"picture_id\" = \"tests_pic\".\"id\")'"
      ]
     },
     "execution_count": 29,
     "metadata": {},
     "output_type": "execute_result"
    }
   ],
   "source": [
    "Description.objects.select_related('product__picture').query.__str__()"
   ]
  }
 ],
 "metadata": {
  "kernelspec": {
   "display_name": "Django Shell-Plus",
   "language": "python",
   "name": "django_extensions"
  },
  "language_info": {
   "codemirror_mode": {
    "name": "ipython",
    "version": 3
   },
   "file_extension": ".py",
   "mimetype": "text/x-python",
   "name": "python",
   "nbconvert_exporter": "python",
   "pygments_lexer": "ipython3",
   "version": "3.10.6"
  }
 },
 "nbformat": 4,
 "nbformat_minor": 5
}
